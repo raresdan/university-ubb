{
  "cells": [
    {
      "cell_type": "markdown",
      "metadata": {
        "id": "SbcFztANyC6m"
      },
      "source": [
        "# Lecture 4: Deep learning\n",
        "\n",
        "## 4.1. Deep learning - main elements\n",
        "\n",
        "### 4.1.1. Concept\n",
        "\n",
        "What is it?\n",
        "- methodology in which we can train machine complex representations\n",
        "- addresses the problem of learning hierarchical representations with a single (a few) algorithm(s)\n",
        "- models with a feature hierarchy (lower-level features are learned at one layer of a model, and then those features are combined at the next level). \n",
        "- it's deep if it has more than one stage of non-linear feature transformation\n",
        "- hierarchy of representations with increasing level of abstraction \n",
        "    * Image recognition \n",
        "        - Pixel → edge → texton → motif → part → object \n",
        "    * Text \n",
        "        - Character → word → word group → clause → sentence → story \n",
        "    * Speech \n",
        "        - Sample → spectral band → sound → … → phone → phoneme → word\n",
        "\n",
        "Deep networks/architectures\n",
        "- Convolutional NNs\n",
        "- Auto-encoders\n",
        "- Deep Belief Nets (Restricted Boltzmann machines)\n",
        "- Recurrent Neural Networks \n",
        "- Generative Adversial Networks\n",
        "\n",
        "\n",
        "Main characteristics:\n",
        "- Collection of methods to improve the optimisation and generalisation of learning methods, especially NNs:\n",
        "    * Rectified linear units\n",
        "    * Dropout\n",
        "    * Batch normalisation\n",
        "    * Weight decay regularisation\n",
        "    * Momentum learning\n",
        "\n",
        "- Stacking layers of transformations to create successively more abstract levels of representation\n",
        "    * Depth over breadth\n",
        "    * Deep MLPs\n",
        "\n",
        "- Shared parameters\n",
        "    * Convolutional NNs\n",
        "    * Recurrent NNs\n",
        "\n",
        "- Technological improvements\n",
        "    * Massively parallel processing: GPUs, CUDA\n",
        "    * Fast libraries: Torch, cuDNN, CUDA-convNet, Theano\n",
        "\n"
      ]
    },
    {
      "cell_type": "markdown",
      "metadata": {
        "id": "Zhm58ntuyC6n"
      },
      "source": [
        "\n",
        "### 4.1.2. An ML algorithm as an optimisation approach \n",
        "\n",
        "An optimization problem     \n",
        "- minimize the loss function \n",
        "- with respect to the parameters of the score function.\n",
        "\n",
        "Reamrk:\n",
        "- score function  \n",
        "    * maps the raw data to class scores/labels\n",
        "- loss function \n",
        "    * quantifies the agreement between the predicted scores and the ground truth scores/labels\n",
        "    * ANN: quantifies the quality of any particular set of weights W\n",
        "    * two components\n",
        "        - the data loss computes the compatibility between the computed scores and the true labels. \n",
        "        - the regularization loss is only a function of the weights\n",
        "\n",
        "Suppose a supervised classification problem\n",
        "- Some input data (examples, instances, cases)\n",
        "    * Training data – as pairs (attributeData_i, label_i), where:\n",
        "        - i = 1, N (N = \\# of training data)\n",
        "        - $attributeData_i= (atri_1, atri_2, ..., atri_m)$, m – \\# attributes (characteristics, features) for an input data\n",
        "        - $label_i ϵ \\{Label_1, Label_2, …, Label_{\\#classes}\\}$\n",
        "    * Test data – as ($attributeData_i$), i = 1, n (n = \\# of testing data).\n",
        "- Determine\n",
        "    * an unknown function that maps inputs (features) into outputs (labels)\n",
        "    * output (label / class / value / score) associated to a new data by using the learnt function\n",
        "\n",
        "Quality of learning\n",
        "- Accuracy / Precision / Recall / etc\n",
        "    * does not reflect the learnt decision model\n",
        "- A loss function \n",
        "    * Expresses (encodes) the learnt model \n",
        "    * Difference between desired (D) and computed (C) output\n",
        "    * L2 norm - Quadratic cost (mean squared error) \n",
        "    > $ \\sum{|| D – C||^2}$  \n",
        "    * L1 norm \n",
        "    > $ \\sum{| D – C|} $\n",
        "    * SVM loss (hinge loss, max-margin loss) \n",
        "    > $ \\sum_{i}{\\sum_{j, j ≠ y_i}{max(C_j – D_{y_i} + \\Delta, 0)}}$\n",
        "    * Softmax loss \n",
        "    > $ \\sum_{i}{\\frac{- ln(exp(D_{y_i}))}{\\sum_{j, j ≠ y_i}{exp(C_j)}}}$\n",
        "    * Cross-entropy \n",
        "    > $-\\sum{\\frac{D ln C + ( 1 – D) ln(1 - C)}{n}}$ \n",
        "\n",
        "Several important mappings\n",
        "- Constant f(x) = c\n",
        "- Step f(x) = a, if x < theta, and b, otherwise  \n",
        "- Linear f(x) = a x + b\n",
        "- Sigmoid σ(x) = 1 / (1 + e^{−x}) (avoid it in a Conv NN)\n",
        "- Hyperbolic tangent function tanh(x) = 2 σ(2x) − 1\n",
        "- Rectified linear neuron/unit (ReLU) f(x) = max(0, x)\n",
        "- Leak ReLU (Parametric rectifier) f(x) = max(α x, x)\n",
        "- Maxout max(w^T_1x + b_1,w^T_2x + b_2)\n",
        "- Exponential linear units (ELU)  f(x) = x, if x > 0 and α (exp(x) – 1), if x ≤ 0\n",
        "\n",
        "\n",
        "A linear classifier\n",
        "\n",
        "> $f(x, w) = w · x + b$\n",
        "\n",
        "  >> $w \\in R^{\\#classes \\times \\#features}$ \n",
        "\n",
        "  >> $x \\in R^{\\#features \\times 1}$\n",
        "\n",
        "  >> $b \\in R^{\\#classes}$\n",
        "\n",
        "A non linear classifier \n",
        "\n",
        "> $f(x, w) = w_2 max(0, w_1 · x + b_1) + b_2$,\n",
        "    \n",
        "  >> $w_1 \\in R^{PARAM \\times \\#features}$ \n",
        "  \n",
        "  >> $x \\in R^{\\#features \\times 1}$\n",
        "  \n",
        "  >> $b_1 \\in R^{PARAM}$\n",
        "  \n",
        "  >> $w_2 \\in R${\\#classes \\times PARAM}$\n",
        "  \n",
        "  >> $b_2 \\in R^{\\#classes}$\n",
        "\n",
        "\n",
        "\n",
        "\n"
      ]
    },
    {
      "cell_type": "markdown",
      "metadata": {
        "id": "xWH3wx2SyC6o"
      },
      "source": [
        "**Classical ANN**\n",
        "\n",
        "Architectures – special graphs with nodes placed on layers \n",
        "- Layers \n",
        "    * Input layer – size = input’s size (#features)\n",
        "    * Hidden layers – various sizes (#layers, # neurons/layer)\n",
        "    * Output layers – size = output size (e.g. # classes)\n",
        "- Topology\n",
        "    * Full connected layers (one-way connections, recurrent connections)\n",
        "\n",
        "Mechanism\n",
        "- Neuron activation\n",
        "    * Constant, step, linear, sigmoid\n",
        "- Cost & Loss function -> smooth cost function (depends on w & b)\n",
        "    * Difference between desired (D) and computed © output\n",
        "    * Quadratic cost (mean squared error)\n",
        "    > $\\frac{\\sum{|| D – C||^2}}{2n}$\n",
        "    * Cross-entropy\n",
        "    >  $-\\sum{\\frac{D ln C + ( 1 – D) ln(1 - C)}{n}}$ \n",
        "\n",
        "Learning algorithm \n",
        "- Perceptron rule\n",
        "- Delta rule (Simple/Stochastic Gradient Descent)\n",
        "\n",
        "\n",
        "\n"
      ]
    },
    {
      "cell_type": "markdown",
      "metadata": {
        "id": "DIvwyvBFyC6p"
      },
      "source": [
        "\n",
        "\n",
        "**Convolutional NNs**\n",
        "\n",
        "Main characteristics:\n",
        "- More layers\n",
        "- More nodes/layer\n",
        "\n",
        "Topology of connections\n",
        "- Regular NNs -> fully connected\n",
        "    * O(\\#inputs x \\#outputs)\n",
        "- Conv NNs -> partially connected\n",
        "    * connect each neuron to only a local region of the input volume\n",
        "    * O(\\#someInputs x \\#outputs)\n",
        "\n",
        " <img src=\"images\\anns.png\" alt=\"networks\" width=\"400\"/>\n",
        "\n",
        "\n",
        "Topology of layers\n",
        "- Regular NNs -> linear layers\n",
        "- Conv NNs -> 2D/3D layers (width, height, depth)\n",
        "\n",
        "<img src=\"images/cnn.png\" alt=\"conv networks\"/>"
      ]
    },
    {
      "cell_type": "markdown",
      "metadata": {
        "id": "UFe3IWD5yC6q"
      },
      "source": [
        "**Convolutional layer**\n",
        "\n",
        "Aim \n",
        "- learn data-specific kernels\n",
        "- perform a liniar  (see this [material](https://arxiv.org/pdf/1603.07285v1.pdf) for math explanations)\n",
        "\n",
        "Filters or Local receptive fields or Kernels\n",
        "- Content\n",
        "    * convolution (signal theory) vs. Cross-correlation \n",
        "    * a little (square/cube) window on the input pixels\n",
        "- How it works?\n",
        "    * slide the local receptive field across the entire input image\n",
        "- Size\n",
        "    * size of field / filter (F)\n",
        "    * Stride (S)\n",
        "- Learning process\n",
        "    * each hidden neuron has \n",
        "        - FxF shared weights connected to its local receptive field\n",
        "        - a shared bias\n",
        "        - an activation function\n",
        "    * each connection learns a weight\n",
        "    * the hidden neuron learns an overall bias as well\n",
        "    * all the neurons in the first hidden layer detect exactly the same feature (just at different locations in the input image) -> map from input to the first hidden layer = feature map / activation map\n",
        "\n",
        "How does it work?\n",
        "\n",
        "- Take an input I (example, instance, data) of various dimensions \n",
        "    * a signal -> 1D input (I_{length})\n",
        "    * a grayscale image -> 2D input (I_{Width} & I_{Height})\n",
        "    * an RGB image -> 3D input (I_{Width}, I_{Height} & I_{Depth} = 3) \n",
        "- Consider a set of filters (kernels) F_1, F_2, ..., F_{#filters}\n",
        "    * A filter must have the same \\# dimensions as the input\n",
        "        - A signal -> 1D filter \n",
        "        > F_{length} << I_{length}\n",
        "        - a grayscale image -> 2D filter \n",
        "        > F_{width} << I_{width} & F_{height} << I_{height}\n",
        "        - an RGB image -> 3D filter\n",
        "        > F_{width} << I_{width} & F_{height} << I_{height} &  F_{depth} = I_{Depth} = 3\n",
        "- Apply each filter over the input\n",
        "    * Overlap filter over a window of the input\n",
        "        - Stride\n",
        "        - Padding \n",
        "    * Multiply the filter and the window\n",
        "    * Store the results in an activation map\n",
        "        - \\# activation maps = # filters\n",
        "- Activate all the elements of each activation map\n",
        "    * ReLU or other activation function\n",
        "\n",
        "<img src=\"images/filter1.png\" alt=\"filters\" width=\"400\"/>\n",
        "\n",
        "     \n",
        "<img src=\"images/filter2.png\" alt=\"filters\" width=\"400\"/>\n",
        "\n",
        "\n",
        "<img src=\"images/filter3.png\" alt=\"filters\" width=\"400\"/>\n",
        "\n",
        "\n",
        "\n"
      ]
    },
    {
      "cell_type": "markdown",
      "metadata": {
        "id": "cgPQecUcyC6q"
      },
      "source": [
        "**Hyperparameters**\n",
        "\n",
        "- input volume size N (L or WI & HI or WI & HI & DI)\n",
        "- size of zero-padding of input volume P (PL or PW & PH or PW & PH & PD)\n",
        "- the receptive field size (filter size) F (FL, FW & FH, FW & FH & FD) \n",
        "- stride of the convolutional layer S (SL, SW & SH, SW & SH & SD)\n",
        "- \\# of filters (K)\n",
        "- depth of the output volume \n",
        "\n",
        "\\# neurons of an activation map =  (N + 2P − F)/S+1\n",
        "\n",
        "Output size (O or WO & HO or WO & HO & DO)\n",
        "- K * [(N + 2P − F)/S+1]\n",
        "\n",
        "N = L = 5, P = 1, \n",
        "- F = 3, S = 1\n",
        "- F = 3, S = 2\n",
        "\n",
        "<img src=\"images/hyperparam.png\" alt=\"hyperparameters\" width=\"400\"/>\n",
        "\n",
        "<img src=\"images/convComputing.png\" alt=\"convolution\" width=\"400\"/>\n",
        "\n",
        "<img src=\"images/sliding.png\" alt=\"sliding\" width=\"400\"/>\n"
      ]
    },
    {
      "cell_type": "markdown",
      "metadata": {
        "id": "anO6dnsqyC6r"
      },
      "source": [
        "**Convolutional layer** – typology \n",
        "\n",
        "- Classic convolution\n",
        "    \n",
        "    * one filter, D channels\n",
        "    \n",
        "    <img src=\"images/oneFilter.png\" alt=\"convolution\" width=\"600\"/>\n",
        "\n",
        "    * more filters (K), D channels\n",
        "\n",
        "    <img src=\"images/moreFilters.png\" alt=\"convolution\" width=\"600\"/>\n",
        "\n",
        "- Transposed convolution (deconvolution)\n",
        "\n",
        "    * See [article](https://arxiv.org/pdf/1603.07285.pdf)\n",
        "    \n",
        "    <img src=\"images/transposedConv.gif\" alt=\"convolution\" width=\"200\"/>\n",
        "    \n",
        "    * utility\n",
        "        - Up-sampling - How? \n",
        "\n",
        "            > $ ImgLarge * F = ImgSmall$\n",
        "\n",
        "            > $ ImgLarge * F * F^T = ImgSmall* F^T $\n",
        "\n",
        "            > $ ImgLarge * I = ImgSmall * F^T $\n",
        "\n",
        "            > $ ImgLarge = ImgSmall * F^T $\n",
        "\n",
        "            - image generation - in GANs (Generative Adversial Networks (future lecture)\n",
        "        \n",
        "        - semantic segmentation -> Autoencoders (future lecture)\n",
        "\n",
        "    * more details [link](https://distill.pub/2016/deconv-checkerboard/)\n",
        "\n",
        "    \n",
        "\n",
        "- Dilated convolution (atrous convolution)\n",
        "\n",
        "    * see [link](https://arxiv.org/pdf/1511.07122.pdf)\n",
        "\n",
        "    <img src=\"images/dilatedConv.gif\" alt=\"convolution\" width=\"400\"/>\n",
        "\n",
        "    * utility\n",
        "        - working with higher resolution images, but fine-grained details are still important\n",
        "        - constructing a network with fewer parameters\n",
        "        - broader view of the input to capture more contextual information\n"
      ]
    },
    {
      "cell_type": "code",
      "execution_count": 2,
      "metadata": {
        "colab": {
          "base_uri": "https://localhost:8080/",
          "height": 327
        },
        "id": "dPHifIZQyOG1",
        "outputId": "dfa4bde9-a2d3-4af4-b249-6d136205fddb"
      },
      "outputs": [
        {
          "name": "stdout",
          "output_type": "stream",
          "text": [
            "(8, 8, 1)\n",
            "(32, 32, 1)\n"
          ]
        },
        {
          "data": {
            "image/png": "[encoded data removed]",
            "text/plain": [
              "<Figure size 1080x360 with 5 Axes>"
            ]
          },
          "metadata": {
            "needs_background": "light",
            "tags": []
          },
          "output_type": "display_data"
        }
      ],
      "source": [
        "# different convolutions\n",
        "\n",
        "import keras\n",
        "from keras.models import Sequential\n",
        "from keras.layers import UpSampling2D, Conv2DTranspose, Conv2D\n",
        "import matplotlib.pyplot as plt\n",
        "import numpy as np\n",
        "\n",
        "# Generate some data\n",
        "img_size = 8\n",
        "input_flattened = np.arange(0, img_size * img_size / 2, 0.5)\n",
        "input_image = np.reshape(input_flattened, (img_size, img_size, 1))\n",
        "input_image_shape = np.shape(input_image)\n",
        "print(input_image_shape)\n",
        "input_image_shape = (input_image_shape[0], input_image_shape[1], 1)\n",
        "\n",
        "# apply different conv\n",
        "# std conv\n",
        "model1 = Sequential()\n",
        "model1.add(Conv2D(12, kernel_size=(3, 3), activation='relu', kernel_initializer='he_normal', input_shape=input_image_shape))\n",
        "\n",
        "# interpolation\n",
        "model2 = Sequential()\n",
        "model2.add(UpSampling2D((4, 4), input_shape=input_image_shape, interpolation='bilinear'))\n",
        "\n",
        "# transposed cond\n",
        "model3 = Sequential()\n",
        "model3.add(Conv2DTranspose(32, kernel_size=(3,3), input_shape=input_image_shape, activation='relu', kernel_initializer='he_normal'))\n",
        "\n",
        "# dilated conv\n",
        "model4 = Sequential()\n",
        "model4.add(Conv2D(12, kernel_size=(3, 3), activation='relu', kernel_initializer='he_normal', input_shape=input_image_shape, dilation_rate=(2,2)))\n",
        "\n",
        "\n",
        "# Perform conv and obtain the output\n",
        "input = np.array([input_image])\n",
        "output1 = model1.predict(input)[0]\n",
        "output2 = model2.predict(input)[0]\n",
        "print(output2.shape)\n",
        "output3 = model3.predict(input)[0]\n",
        "output4 = model4.predict(input)[0]\n",
        "\n",
        "# Visualize input and output\n",
        "fig, axes = plt.subplots(1, 5, figsize=(15,5))\n",
        "axes[0].imshow(input_image[:, :, 0]) \n",
        "axes[0].set_title('Original image')\n",
        "axes[1].imshow(output1[:, :, 0])\n",
        "axes[1].set_title('Std convolved input')\n",
        "axes[2].imshow(output2[:, :, 0])\n",
        "axes[2].set_title('Interpolated input')\n",
        "axes[3].imshow(output3[:, :, 0])\n",
        "axes[3].set_title('Transpose convolved input')\n",
        "axes[4].imshow(output4[:, :, 0])\n",
        "axes[4].set_title('Dilated convolved input')\n",
        "\n",
        "fig.suptitle(f'Original and convolved input')\n",
        "plt.show()"
      ]
    },
    {
      "cell_type": "code",
      "execution_count": null,
      "metadata": {
        "id": "2OUdLrzayrYQ"
      },
      "outputs": [],
      "source": [
        "another example - an encoder-decoder\n"
      ]
    },
    {
      "cell_type": "code",
      "execution_count": 4,
      "metadata": {
        "colab": {
          "base_uri": "https://localhost:8080/",
          "height": 1000
        },
        "id": "soyTi05SyvZ5",
        "outputId": "012ba720-0662-4290-e72a-563fcdc0bf44"
      },
      "outputs": [
        {
          "name": "stdout",
          "output_type": "stream",
          "text": [
            "Epoch 1/3\n",
            "48/48 [==============================] - 174s 4s/step - loss: 0.2971 - val_loss: 0.0907\n",
            "Epoch 2/3\n",
            "48/48 [==============================] - 173s 4s/step - loss: 0.0789 - val_loss: 0.0744\n",
            "Epoch 3/3\n",
            "48/48 [==============================] - 173s 4s/step - loss: 0.0697 - val_loss: 0.0681\n",
            "WARNING:tensorflow:5 out of the last 5 calls to <function Model.make_predict_function.<locals>.predict_function at 0x7f7a86df7e18> triggered tf.function retracing. Tracing is expensive and the excessive number of tracings could be due to (1) creating @tf.function repeatedly in a loop, (2) passing tensors with different shapes, (3) passing Python objects instead of tensors. For (1), please define your @tf.function outside of the loop. For (2), @tf.function has experimental_relax_shapes=True option that relaxes argument shapes that can avoid unnecessary retracing. For (3), please refer to https://www.tensorflow.org/tutorials/customization/performance#python_or_tensor_args and https://www.tensorflow.org/api_docs/python/tf/function for  more details.\n"
          ]
        },
        {
          "data": {
            "image/png": "[encoded data removed]",
            "text/plain": [
              "<Figure size 432x288 with 2 Axes>"
            ]
          },
          "metadata": {
            "needs_background": "light",
            "tags": []
          },
          "output_type": "display_data"
        },
        {
          "data": {
            "image/png": "[encoded data removed]",
            "text/plain": [
              "<Figure size 432x288 with 2 Axes>"
            ]
          },
          "metadata": {
            "needs_background": "light",
            "tags": []
          },
          "output_type": "display_data"
        },
        {
          "data": {
            "image/png": "[encoded data removed]",
            "text/plain": [
              "<Figure size 432x288 with 2 Axes>"
            ]
          },
          "metadata": {
            "needs_background": "light",
            "tags": []
          },
          "output_type": "display_data"
        },
        {
          "data": {
            "image/png": "[encoded data removed]",
            "text/plain": [
              "<Figure size 432x288 with 2 Axes>"
            ]
          },
          "metadata": {
            "needs_background": "light",
            "tags": []
          },
          "output_type": "display_data"
        },
        {
          "data": {
            "image/png": "[encoded data removed]",
            "text/plain": [
              "<Figure size 432x288 with 2 Axes>"
            ]
          },
          "metadata": {
            "needs_background": "light",
            "tags": []
          },
          "output_type": "display_data"
        },
        {
          "data": {
            "image/png": "[encoded data removed]",
            "text/plain": [
              "<Figure size 432x288 with 2 Axes>"
            ]
          },
          "metadata": {
            "needs_background": "light",
            "tags": []
          },
          "output_type": "display_data"
        },
        {
          "data": {
            "image/png": "[encoded data removed]",
            "text/plain": [
              "<Figure size 432x288 with 2 Axes>"
            ]
          },
          "metadata": {
            "needs_background": "light",
            "tags": []
          },
          "output_type": "display_data"
        },
        {
          "data": {
            "image/png": "[encoded data removed]",
            "text/plain": [
              "<Figure size 432x288 with 2 Axes>"
            ]
          },
          "metadata": {
            "needs_background": "light",
            "tags": []
          },
          "output_type": "display_data"
        }
      ],
      "source": [
        "# encoder-decoder example that uses convolution and deconvolution\n",
        "import keras\n",
        "from keras.datasets import mnist\n",
        "from keras.models import Sequential\n",
        "from keras.layers import Conv2D, Conv2DTranspose\n",
        "import matplotlib.pyplot as plt\n",
        "import numpy as np\n",
        "\n",
        "# Model configuration\n",
        "img_width, img_height = 28, 28\n",
        "batch_size = 1000\n",
        "no_epochs = 3\n",
        "no_classes = 10\n",
        "validation_split = 0.2\n",
        "verbosity = 1\n",
        "\n",
        "# Load MNIST dataset\n",
        "(input_train, target_train), (input_test, target_test) = mnist.load_data()\n",
        "\n",
        "# Reshape data\n",
        "input_train = input_train.reshape(input_train.shape[0], img_width, img_height, 1)\n",
        "input_test = input_test.reshape(input_test.shape[0], img_width, img_height, 1)\n",
        "input_shape = (img_width, img_height, 1)\n",
        "\n",
        "# Parse numbers as floats\n",
        "input_train = input_train.astype('float32')\n",
        "input_test = input_test.astype('float32')\n",
        "\n",
        "# Normalize data\n",
        "input_train = input_train / 255\n",
        "input_test = input_test / 255\n",
        "\n",
        "# Create the model\n",
        "model = Sequential()\n",
        "model.add(Conv2D(32, kernel_size=(3, 3), activation='relu', kernel_initializer='he_normal', input_shape=input_shape))\n",
        "model.add(Conv2D(16, kernel_size=(3, 3), activation='relu', kernel_initializer='he_normal'))\n",
        "model.add(Conv2D(8, kernel_size=(3, 3), activation='relu', kernel_initializer='he_normal'))\n",
        "model.add(Conv2DTranspose(8, kernel_size=(3,3), activation='relu', kernel_initializer='he_normal'))\n",
        "model.add(Conv2DTranspose(16, kernel_size=(3,3), activation='relu', kernel_initializer='he_normal'))\n",
        "model.add(Conv2DTranspose(32, kernel_size=(3,3), activation='relu', kernel_initializer='he_normal'))\n",
        "model.add(Conv2D(1, kernel_size=(3, 3), activation='sigmoid', padding='same'))\n",
        "\n",
        "# Compile and fit data\n",
        "model.compile(optimizer='adam', loss='binary_crossentropy')\n",
        "\n",
        "model.fit(input_train, input_train,\n",
        "                epochs=no_epochs,\n",
        "                batch_size=batch_size,\n",
        "                validation_split=validation_split)\n",
        "\n",
        "# Generate reconstructions\n",
        "num_reconstructions = 8\n",
        "samples = input_test[:num_reconstructions]\n",
        "targets = target_test[:num_reconstructions]\n",
        "reconstructions = model.predict(samples)\n",
        "\n",
        "# Plot reconstructions\n",
        "for i in np.arange(0, num_reconstructions):\n",
        "  # Get the sample and the reconstruction\n",
        "  sample = samples[i][:, :, 0]\n",
        "  reconstruction = reconstructions[i][:, :, 0]\n",
        "  input_class = targets[i]\n",
        "  # Matplotlib preparations\n",
        "  fig, axes = plt.subplots(1, 2)\n",
        "  # Plot sample and reconstruciton\n",
        "  axes[0].imshow(sample)\n",
        "  axes[0].set_title('Original image')\n",
        "  axes[1].imshow(reconstruction)\n",
        "  axes[1].set_title('Reconstruction with Conv2DTranspose')\n",
        "  fig.suptitle(f'MNIST target = {input_class}')\n",
        "  plt.show()\n"
      ]
    },
    {
      "cell_type": "markdown",
      "metadata": {
        "id": "4tkySCTCyjoR"
      },
      "source": [
        "\n",
        "- Spatial separable (depth-wise separable) convolution\n",
        "    \n",
        "    * Split the convolution into\n",
        "        \n",
        "        - A depthwise convolution <img src=\"images/depthWiseConv.png\" alt=\"convolution\" width=\"400\"/>\n",
        "\n",
        "        - A pointwise convolution \n",
        "\n",
        "        <img src=\"images/pointWiseConv1.png\" alt=\"convolution\" width=\"400\"/>\n",
        "\n",
        "        <img src=\"images/pointWiseConv2.png\" alt=\"convolution\" width=\"400\"/>   \n",
        "\n",
        "    * E.g. Sobel operator\n",
        "\n",
        "    <img src=\"images/stdVsDepthwiseConv.png\" alt=\"convolution\" width=\"900\"/>   \n",
        "\n",
        "    * standard versus spatial separable \n",
        "\n",
        "| standard (classic) | | spatial separable |\n",
        "| :--- | :---: |:--- |\n",
        "| Image: $W_I \\times H_I \\times D_I = 12 \\times 12 \\times 3$ | | Image: $W_I \\times H_I \\times D_I = 12 \\times 12 \\times 3$ |\n",
        "| 1 filter: $F_w \\times F_H \\times F_D = 5 \\times 5 \\times 3$ | | 3 filters: $F_w \\times F_H \\times F_D = 5 \\times 5 \\times 1$ |\n",
        "| | | 1 filter $F'_W \\times F'_H \\times F'_D = 1 \\times 1 \\times 3$ | | \n",
        "| No padding: P = 0 | | No padding: P = 0 | \n",
        "| Stride 1: S = 1 | | Stride 1: S = 1 |\n",
        "| Output: $W_O \\times H_o \\times D_O = 8 \\times 8 \\times 1$ | | Output: $W_O \\times H_O \\times D_O = 8 \\times 8 \\times 256$ |\n",
        "| 1 * (5 * 5 * 3) * (8 * 8) = 4 800 | | 3 * (5 * 5) * (8 * 8) = 4 800 |\n",
        "| | | 1 * (1 * 1 * 3) * (8 * 8) = 192 |\n",
        "| => 4 800 ops. | | => 4 992 ops |\n",
        "|--------------------------------|---|--------------------------------|\n",
        "| Image: $W_I \\times H_I \\times D_I = 12 \\times 12 \\times 3$ | | Image: $W_I \\times H_I \\times D_I = 12 \\times 12 \\times 3$ |\n",
        "| 256 filters: $F_w \\times F_H \\times F_D = 5 \\times 5 \\times 3$ | | 3 filters: $F_w \\times F_H \\times F_D = 5 \\times 5 \\times 1$ |\n",
        "| | | 256 filters $F'_W \\times F'_H \\times F'_D = 1 \\times 1 \\times 3$ | \n",
        "| No padding: P = 0 | | No padding: P = 0 | \n",
        "| Stride 1: S = 1 | | Stride 1: S = 1 |\n",
        "| Output: $W_O \\times H_o \\times D_O = 8 \\times 8 \\times 256$ | | Output: $W_O \\times H_O \\times D_O = 8 \\times 8 \\times 256$ |\n",
        "| 256 * (5 * 5 * 3) * (8 * 8) =  1 228 800 | | 3 * (5 * 5) * (8 * 8) = 4800 |\n",
        "| | | 256 * (1 * 1 * 3) * (8 * 8) = 49 152 |\n",
        "| => 1 228 800 ops. | | => 53 952 ops |\n",
        "\n",
        "\n",
        "- Grouped convolutions\n",
        "    \n",
        "    * See [article](https://arxiv.org/pdf/1605.06489.pdf)\n",
        "    \n",
        "    * Efficient training (More GPUs) => model parallelisation\n",
        "    \n",
        "    * Fewer parameters \n",
        "    \n",
        "    * Better representations\n",
        "    \n",
        "<img src=\"images/groupConv1.png\" alt=\"convolution\" width=\"400\"/>\n",
        "    * see laso these materials [link](https://blog.yani.ai/filter-group-tutorial/) [link](https://arxiv.org/abs/1707.09855)\n",
        "   \n",
        "<img src=\"images/groupConv2.png\" alt=\"convolution\" width=\"400\"/>\n",
        "\n",
        "| standard (classic) convolution | | grouped convolution|\n",
        "| :--- | :---: |:--- |\n",
        "|  |  |  |\n",
        "| Image: $W_I \\times H_I \\times D_I = 12 \\times 12 \\times D_I$ | | Image: $W_I \\times H_I \\times D_I = 12 \\times 12 \\times D_I $ |\n",
        "| $D_O$ filters: $F_w \\times F_H \\times D_I = 5 \\times 5 \\times D_I $ | | $\\frac{D_O}{2}$  filters: $F_w \\times F_H \\times \\frac{D_I}{2} = 5 \\times 5 \\times \\frac{D_I}{2}$ |\n",
        "| | | $\\frac{D_O}{2}$ filter $F'_W \\times F'_H \\times \\frac{D_I}{2} = 5 \\times 5 \\times \\frac{D_I}{2}$ | \n",
        "| | | |\n",
        "| No padding: P = 0 | | No padding: P = 0 | \n",
        "| Stride 1: S = 1 | | Stride 1: S = 1 |\n",
        "| Output: $W_O \\times H_o \\times D_O = 8 \\times 8 \\times D_O$ | | Output: $W_O \\times H_O \\times D_O = 8 \\times 8 \\times D_O$ |\n",
        "| | | |\n",
        "| #operations: $F_W \\times F_H \\times D_I \\times D_O = 5 \\times 5 \\times D_I \\times D_O$ | | #operations: $[F_W \\times F_H \\times \\frac{D_I}{2} \\times \\frac{D_O}{2}\\ \\times 2 = 5 \\ times 5 \\times D_I \\times \\frac{D_O}{2} $|\n"
      ]
    },
    {
      "cell_type": "code",
      "execution_count": 5,
      "metadata": {
        "colab": {
          "base_uri": "https://localhost:8080/"
        },
        "id": "XxdTrNjqy_bG",
        "outputId": "be76ec34-f5b4-4cf3-eccc-c824df453b68"
      },
      "outputs": [
        {
          "name": "stdout",
          "output_type": "stream",
          "text": [
            "Epoch 1/3\n",
            "960/960 [==============================] - 39s 40ms/step - loss: 0.3154 - accuracy: 0.9045 - val_loss: 0.1000 - val_accuracy: 0.9686\n",
            "Epoch 2/3\n",
            "960/960 [==============================] - 38s 40ms/step - loss: 0.1152 - accuracy: 0.9631 - val_loss: 0.0697 - val_accuracy: 0.9792\n",
            "Epoch 3/3\n",
            "960/960 [==============================] - 36s 38ms/step - loss: 0.0879 - accuracy: 0.9725 - val_loss: 0.0580 - val_accuracy: 0.9822\n",
            "Test loss: 0.04996929317712784 / Test accuracy: 0.9837999939918518\n"
          ]
        }
      ],
      "source": [
        "# standard convolution vs. depthwise separable convolutions\n",
        "import keras\n",
        "from keras.datasets import mnist\n",
        "from keras.models import Sequential\n",
        "from keras.layers import Dense, Dropout, Flatten\n",
        "from keras.layers import Conv2D, MaxPooling2D, SeparableConv2D\n",
        "from keras import backend as K\n",
        "\n",
        "# Model configuration\n",
        "img_width, img_height = 28, 28\n",
        "batch_size = 50\n",
        "no_epochs = 3\n",
        "no_classes = 10\n",
        "validation_split = 0.2\n",
        "verbosity = 1\n",
        "\n",
        "# Load MNIST dataset\n",
        "(input_train, target_train), (input_test, target_test) = mnist.load_data()\n",
        "\n",
        "# Source: https://github.com/keras-team/keras/blob/master/examples/mnist_cnn.py\n",
        "if K.image_data_format() == 'channels_first':\n",
        "    input_train = input_train.reshape(input_train.shape[0], 1, img_width, img_height)\n",
        "    input_test = input_test.reshape(input_test.shape[0], 1, img_width, img_height)\n",
        "    input_shape = (1, img_width, img_height)\n",
        "else:\n",
        "    input_train = input_train.reshape(input_train.shape[0], img_width, img_height, 1)\n",
        "    input_test = input_test.reshape(input_test.shape[0], img_width, img_height, 1)\n",
        "    input_shape = (img_width, img_height, 1)\n",
        "\n",
        "# Parse numbers as floats\n",
        "input_train = input_train.astype('float32')\n",
        "input_test = input_test.astype('float32')\n",
        "\n",
        "# Convert them into black or white: [0, 1].\n",
        "input_train = input_train / 255\n",
        "input_test = input_test / 255\n",
        "\n",
        "# Convert target vectors to categorical targets\n",
        "target_train = keras.utils.to_categorical(target_train, no_classes)\n",
        "target_test = keras.utils.to_categorical(target_test, no_classes)\n",
        "\n",
        "# Create the model\n",
        "model = Sequential()\n",
        "# standard conv\n",
        "# model.add(Conv2D(32, kernel_size=(3, 3), activation='relu', input_shape=input_shape))\n",
        "# depthwise separable conv -> check the training time for an epoch\n",
        "model.add(SeparableConv2D(32, kernel_size=(3, 3), activation='relu', input_shape=input_shape))\n",
        "model.add(MaxPooling2D(pool_size=(2, 2)))\n",
        "model.add(Dropout(0.25))\n",
        "# standard conv\n",
        "# model.add(Conv2D(64, kernel_size=(3, 3), activation='relu'))\n",
        "# depthwse separable conv\n",
        "model.add(SeparableConv2D(64, kernel_size=(3, 3), activation='relu'))\n",
        "model.add(MaxPooling2D(pool_size=(2, 2)))\n",
        "model.add(Dropout(0.25))\n",
        "model.add(Flatten())\n",
        "model.add(Dense(256, activation='relu'))\n",
        "model.add(Dense(no_classes, activation='softmax'))\n",
        "\n",
        "# Compile the model\n",
        "model.compile(loss=keras.losses.categorical_crossentropy,\n",
        "              optimizer=keras.optimizers.Adam(),\n",
        "              metrics=['accuracy'])\n",
        "\n",
        "# Fit data to model\n",
        "model.fit(input_train, target_train,\n",
        "          batch_size=batch_size,\n",
        "          epochs=no_epochs,\n",
        "          verbose=verbosity,\n",
        "          validation_split=validation_split)\n",
        "\n",
        "# Generate generalization metrics\n",
        "score = model.evaluate(input_test, target_test, verbose=0)\n",
        "print(f'Test loss: {score[0]} / Test accuracy: {score[1]}')"
      ]
    },
    {
      "cell_type": "markdown",
      "metadata": {
        "id": "eV2FQ-9oyC6u"
      },
      "source": [
        "## Pooling layer\n",
        "\n",
        "### Aim\n",
        "\n",
        "- progressively reduce the spatial size of the representation <img src=\"images/poolingFLow.png\" alt=\"pooling\" width=\"200\"/>\n",
        "    * to reduce the amount of parameters and computation in the network \n",
        "    * to also control overfitting\n",
        "\n",
        "- a subsampling step\n",
        "    * downsample the spatial dimensions of the input.\n",
        "\n",
        "- simplify the information in the output from the convolutional layer\n",
        "\n",
        " \n",
        "### How it works?\n",
        "\n",
        "- takes each feature map output from the convolutional layer and prepares a condensed feature map\n",
        "\n",
        "- each unit in the pooling layer may summarize a region in the previous layer <img src=\"images/poolingSketch.png\" alt=\"pooling\" width=\"200\"/>\n",
        "\n",
        "- apply pooling filters to each feature map separately\n",
        "    * Pooling filter size (spatial extent of pooling) PF\n",
        "    * Pooling filter stride PS\n",
        "    * No padding\n",
        "\n",
        "- resizes it spatially, using <img src=\"images/maxPooling.png\" alt=\"pooling\" width=\"200\"/>\n",
        "    * the MAX operation\n",
        "    * the average operation\n",
        "    * Lp norm: $L_p = \\sqrt[p]{\\sum{x^p}}$\n",
        "        - L2-norm operation (square root of the sum of the squares of the activations in a rectangular neighbourhood/region) <-> p = 2\n",
        "    * Log prob PROB: $L_{prob} = \\frac{1}{b} \\log{\\sum{e^{bx}}}$\n",
        "\n",
        "Two reasons:\n",
        "\n",
        "- Dimensionality reduction\n",
        "\n",
        "<img src=\"images/poolingFlow.png\" alt=\"pooling\" width=\"200\"/>\n",
        "\n",
        "- Invariance to transformation (rotation, translation) <img src=\"images/rotTransInv.png\" alt=\"pooling\" width=\"200\"/>\n",
        "\n",
        "    * Small translations – e.g. Max pooling\n",
        "\n",
        "    <img src=\"images/maxPooling2.png\" alt=\"pooling\" width=\"200\"/>\n",
        "\n",
        "    * When? => if we care about whether a feature is present rather than exactly where it is (eg. rotation)\n",
        "\n",
        "    <img src=\"images/rotationPooling.png\" alt=\"pooling\" width=\"200\"/>\n",
        "\n",
        "\n",
        "\n",
        "- Size conversion\n",
        "\n",
        "    * Input: $K \\times N$\n",
        "\n",
        "    * Output: $ K \\times [(N – PF) / PS + 1]$\n",
        "\n",
        "- Typology\n",
        "\n",
        "    * Local pooling (patch-based pooling)\n",
        "\n",
        "    * Global pooling (image-based pooling) \n",
        "\n",
        "Reamrks:\n",
        "- introduces zero parameters since it computes a fixed function of the input\n",
        "\n",
        "- note that it is not common to use zero-padding for Pooling layers\n",
        "\n",
        "- pooling layer with PF=3,PS=2 (also called overlapping pooling), and more commonly PF=2, PS=2\n",
        "\n",
        "- pooling sizes with larger filters are too destructive\n",
        "\n",
        "- keep track of the index of the max activation (sometimes also called the switches) so that gradient routing is efficient during backpropagation\n",
        "\n"
      ]
    },
    {
      "cell_type": "code",
      "execution_count": 6,
      "metadata": {
        "colab": {
          "base_uri": "https://localhost:8080/",
          "height": 415
        },
        "id": "VmUkiNXYzHzd",
        "outputId": "a371675d-a92e-49c3-a287-11458caf92f8"
      },
      "outputs": [
        {
          "name": "stdout",
          "output_type": "stream",
          "text": [
            "(8, 8, 1)\n",
            "WARNING:tensorflow:6 out of the last 6 calls to <function Model.make_predict_function.<locals>.predict_function at 0x7f7a88fe5400> triggered tf.function retracing. Tracing is expensive and the excessive number of tracings could be due to (1) creating @tf.function repeatedly in a loop, (2) passing tensors with different shapes, (3) passing Python objects instead of tensors. For (1), please define your @tf.function outside of the loop. For (2), @tf.function has experimental_relax_shapes=True option that relaxes argument shapes that can avoid unnecessary retracing. For (3), please refer to https://www.tensorflow.org/tutorials/customization/performance#python_or_tensor_args and https://www.tensorflow.org/api_docs/python/tf/function for  more details.\n",
            "WARNING:tensorflow:7 out of the last 7 calls to <function Model.make_predict_function.<locals>.predict_function at 0x7f7a8a3a3158> triggered tf.function retracing. Tracing is expensive and the excessive number of tracings could be due to (1) creating @tf.function repeatedly in a loop, (2) passing tensors with different shapes, (3) passing Python objects instead of tensors. For (1), please define your @tf.function outside of the loop. For (2), @tf.function has experimental_relax_shapes=True option that relaxes argument shapes that can avoid unnecessary retracing. For (3), please refer to https://www.tensorflow.org/tutorials/customization/performance#python_or_tensor_args and https://www.tensorflow.org/api_docs/python/tf/function for  more details.\n"
          ]
        },
        {
          "data": {
            "image/png": "[encoded data removed]",
            "text/plain": [
              "<Figure size 1080x360 with 3 Axes>"
            ]
          },
          "metadata": {
            "needs_background": "light",
            "tags": []
          },
          "output_type": "display_data"
        }
      ],
      "source": [
        "# pooling examples\n",
        "\n",
        "import keras\n",
        "from keras.models import Sequential\n",
        "from keras.layers import MaxPooling2D, AveragePooling2D, GlobalMaxPooling2D, GlobalAveragePooling2D\n",
        "import matplotlib.pyplot as plt\n",
        "import numpy as np\n",
        "\n",
        "# Generate some data\n",
        "img_size = 8\n",
        "input_flattened = np.arange(0, img_size * img_size / 2, 0.5)\n",
        "input_image = np.reshape(input_flattened, (img_size, img_size, 1))\n",
        "input_image_shape = np.shape(input_image)\n",
        "print(input_image_shape)\n",
        "input_image_shape = (input_image_shape[0], input_image_shape[1], 1)\n",
        "\n",
        "# Create models with different poolings\n",
        "model1 = Sequential()\n",
        "model1.add(AveragePooling2D(pool_size=(2, 2)))\n",
        "\n",
        "model2 = Sequential()\n",
        "model2.add(AveragePooling2D(pool_size=(2,2)))\n",
        "\n",
        "\n",
        "# Perform pooling\n",
        "output1 = model1.predict(np.array([input_image]))[0]\n",
        "output2 = model2.predict(np.array([input_image]))[0]\n",
        "\n",
        "# Visualize input and output\n",
        "fig, axes = plt.subplots(1, 3, figsize = (15,5))\n",
        "axes[0].imshow(input_image[:, :, 0]) \n",
        "axes[0].set_title('Original image')\n",
        "axes[1].imshow(output1[:, :, 0])\n",
        "axes[1].set_title('Max Pool input')\n",
        "axes[2].imshow(output2[:, :, 0])\n",
        "axes[2].set_title('Avg Pool input')\n",
        "fig.suptitle(f'Original and pooled input')\n",
        "plt.show()\n"
      ]
    },
    {
      "cell_type": "markdown",
      "metadata": {
        "id": "dsVmYRIAyC6v"
      },
      "source": [
        "## Fully-connected layer\n",
        "\n",
        "Neurons have full connections to all inputs from  the previous layer    <img src=\"images/fullyConnected.png\" alt=\"fullyCOnnected\" width=\"200\"/>\n",
        "\n",
        "- Various activations\n",
        "    * ReLU (often)\n"
      ]
    },
    {
      "cell_type": "markdown",
      "metadata": {
        "id": "mkfHGW7MyC6w"
      },
      "source": [
        "## Output layer\n",
        "\n",
        "### Multiclass SVM\n",
        "\n",
        "Largest score indicates the correct answer\n",
        "\n",
        "> Hinge loss: <img src=\"images/hingeLoss.png\" alt=\"svmLoss\" width=\"200\"/>\n",
        "\n",
        ">   * $L_i = \\sum_{j \\neq y_i}{\n",
        "    \\begin{cases} \n",
        "        0, s_{y_i} \\geq s_j, \\\\ \n",
        "        s_j - s_{y_i} + 1, otherwise\\\\ \n",
        "    \\end{cases}}$ \n",
        "    \n",
        ">   * $L_i = \\sum_{j \\neq y_i}{max(0, s_j - s_{y_i} + 1)}$ \n",
        "\n",
        " > Example: <img src=\"images/svmLoss.gif\" alt=\"svmLoss\" width=\"200\"/>\n",
        "\n",
        " >  * Loss = (2.9 + 0 + 12.9) / 3 = 5.27\n",
        "\n",
        "\n",
        "### Softmax (normalized exponential function)\n",
        "\n",
        "- Largest probability indicates the correct answer\n",
        "\n",
        "- converts raw scores to probabilities <img src=\"images/softmaxLoss.png\" alt=\"softmaxLoss\" width=\"400\"/>\n",
        "\n",
        "- \"squashes\" a #classes-dimensional vector z of arbitrary real values to a #classes-dimensional vector σ(z) of real values in the range (0, 1) that add up to 1\n",
        "σ(z)j = exp(zj)/∑k=1..#classes exp(zk)\n"
      ]
    },
    {
      "cell_type": "code",
      "execution_count": null,
      "metadata": {
        "id": "zW2dXgtyyC6x"
      },
      "outputs": [],
      "source": [
        "Note:\n",
        "- Images taken from Andrej Karpathy’s lectures about Conv NNs"
      ]
    }
  ],
  "metadata": {
    "colab": {
      "name": "deepLearning.ipynb",
      "provenance": []
    },
    "kernelspec": {
      "display_name": "Python 3",
      "name": "python3"
    },
    "orig_nbformat": 2
  },
  "nbformat": 4,
  "nbformat_minor": 0
}
