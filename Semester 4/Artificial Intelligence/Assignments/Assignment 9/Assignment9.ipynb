{
 "cells": [
  {
   "attachments": {},
   "cell_type": "markdown",
   "metadata": {},
   "source": [
    "## Lab. 12\n",
    "\n",
    "### Solve the following problem using Genetic Algorithms:\n",
    "\n",
    "\n",
    "Problem: Weighted N-Queen Problem\n",
    "\n",
    "\n",
    "You are given an N×N chessboard, and each cell of the board has an associated weight. Your task is to find a valid placement of N queens such that the total weight of the queens is maximized, and no two queens threaten each other.\n",
    "\n"
   ]
  },
  {
   "attachments": {},
   "cell_type": "markdown",
   "metadata": {},
   "source": [
    "\n",
    "\n",
    "In the traditional N-Queen Problem, the goal is to place N queens on an N×N chessboard in such a way that no two queens threaten each other. In this variation, we introduce weights to the queens and aim to find a placement that maximizes the total weight of the queens while satisfying the constraint of non-threatening positions.\n",
    "\n",
    "\n",
    "Constraints:\n",
    "\n",
    "1. There should be exactly one queen in each row and each column.\n",
    "2. No two queens should be placed in the same diagonal, i.e., they should not threaten each other.\n",
    "3. The placement should maximize the total weight of the queens.\n",
    "\n",
    "\n",
    "Representation:\n",
    "\n",
    "Use a permutation-based representation. Each permutation represents the column position of the queen for each row. \n",
    "\n",
    "For example, if N=4, a valid permutation [2, 4, 1, 3] indicates that the queen in the first row is placed in column 2, the queen in the second row is placed in column 4, and so on.\n",
    "\n",
    "\n",
    "Genetic Algorithm Steps:\n",
    "\n",
    "1. *Initialization*: Generate an initial population of permutations randomly.\n",
    "\n",
    "2. *Fitness Evaluation*: Evaluate the fitness of each permutation by calculating the total weight of the queens while considering the non-threatening positions.\n",
    "\n",
    "3. *Selection*: Select a subset of permutations from the population based on their fitness, using selection techniques like tournament selection or roulette wheel selection.\n",
    "\n",
    "4. *Crossover*: Perform crossover (recombination) on the selected permutations to create new offspring permutations.\n",
    "\n",
    "5. *Mutation*: Introduce random changes (mutations) in the offspring permutations to maintain diversity in the population.\n",
    "\n",
    "6. *Fitness Evaluation for the new individuals*: Evaluate the fitness of the new population.\n",
    "\n",
    "7. *Form the new population*: Select the surviving individuals based on scores, with chances direct proportional with their performance.\n",
    "\n",
    "8. Repeat steps 3-7 for a certain number of generations or until a termination condition is met (e.g., a maximum number of iterations or a satisfactory solution is found).\n",
    "\n",
    "\n",
    "9. *Termination*: Return the best-performing individual (permutation) found as the solution to the problem.\n",
    "\n",
    "Note: The fitness function used in this problem should calculate the total weight of the queens based on the positions specified by the permutation. Additionally, the fitness function should penalize solutions that violate the non-threatening constraint by assigning a lower fitness score to such permutations."
   ]
  },
  {
   "cell_type": "code",
   "execution_count": 13,
   "metadata": {},
   "outputs": [],
   "source": [
    "import random\n",
    "\n",
    "# Define chessboard size and weights (example)\n",
    "N = 4\n",
    "weights = [[1, 2, 3, 4],\n",
    "           [2, 3, 4, 1],\n",
    "           [3, 4, 1, 2],\n",
    "           [4, 1, 2, 3]] "
   ]
  },
  {
   "cell_type": "code",
   "execution_count": 14,
   "metadata": {},
   "outputs": [],
   "source": [
    "# Function to calculate fitness of a permutation\n",
    "def fitness(permutation):\n",
    "    total_weight = 0\n",
    "    threatening_penalty = 0\n",
    "    for row, col in enumerate(permutation):\n",
    "        total_weight += weights[row][col - 1]  # col-1 because permutation is 1-indexed\n",
    "        for prev_row in range(row):\n",
    "            if abs(row - prev_row) == abs(col - permutation[prev_row]):\n",
    "                # Two queens threaten each other, penalize the fitness\n",
    "                threatening_penalty += weights[row][col - 1]  # Penalize based on queen weight\n",
    "    return total_weight - threatening_penalty"
   ]
  },
  {
   "cell_type": "code",
   "execution_count": 15,
   "metadata": {},
   "outputs": [],
   "source": [
    "# Function to generate initial population\n",
    "def generate_population(population_size):\n",
    "    return [[random.randint(1, N) for _ in range(N)] for _ in range(population_size)]"
   ]
  },
  {
   "cell_type": "code",
   "execution_count": 16,
   "metadata": {},
   "outputs": [],
   "source": [
    "# Tournament selection\n",
    "def tournament_selection(population, k):\n",
    "    selected = []\n",
    "    population_size = len(population)\n",
    "    for _ in range(population_size):\n",
    "        contestants = random.sample(population, k)\n",
    "        selected.append(max(contestants, key=fitness))\n",
    "    return selected"
   ]
  },
  {
   "cell_type": "code",
   "execution_count": 17,
   "metadata": {},
   "outputs": [],
   "source": [
    "# Crossover: One-point crossover\n",
    "def crossover(parent1, parent2):\n",
    "    N = len(parent1)\n",
    "    point1, point2 = sorted(random.sample(range(N), 2))\n",
    "\n",
    "    child1, child2 = [None] * N, [None] * N\n",
    "    child1[point1:point2] = parent1[point1:point2]\n",
    "    child2[point1:point2] = parent2[point1:point2]\n",
    "\n",
    "    # Fill the remaining positions\n",
    "    fill_positions(child1, parent2)\n",
    "    fill_positions(child2, parent1)\n",
    "\n",
    "    return child1, child2\n",
    "\n",
    "def fill_positions(child, parent):\n",
    "    N = len(child)\n",
    "    current_pos = 0\n",
    "    for gene in parent:\n",
    "        if child[current_pos] is None:\n",
    "            child[current_pos] = gene\n",
    "        current_pos += 1\n"
   ]
  },
  {
   "cell_type": "code",
   "execution_count": 18,
   "metadata": {},
   "outputs": [],
   "source": [
    "# Mutation: Swap mutation\n",
    "def mutation(individual, mutation_rate):\n",
    "    if random.random() < mutation_rate:\n",
    "        idx1, idx2 = random.sample(range(N), 2)\n",
    "        individual[idx1], individual[idx2] = individual[idx2], individual[idx1]\n",
    "    return individual"
   ]
  },
  {
   "cell_type": "code",
   "execution_count": 19,
   "metadata": {},
   "outputs": [],
   "source": [
    "# Genetic Algorithm\n",
    "def genetic_algorithm(population_size, generations, mutation_rate):\n",
    "    population = generate_population(population_size)\n",
    "    for _ in range(generations):\n",
    "        selected = tournament_selection(population, 3)\n",
    "        offspring = []\n",
    "        for i in range(0, len(selected), 2):\n",
    "            child1, child2 = crossover(selected[i], selected[i + 1])\n",
    "            child1 = mutation(child1, mutation_rate)\n",
    "            child2 = mutation(child2, mutation_rate)\n",
    "            offspring.extend([child1, child2])\n",
    "        population = tournament_selection(offspring, population_size)\n",
    "    best_individual = max(population, key=fitness)\n",
    "    return best_individual"
   ]
  },
  {
   "cell_type": "code",
   "execution_count": 20,
   "metadata": {},
   "outputs": [
    {
     "name": "stdout",
     "output_type": "stream",
     "text": [
      "Best solution: [4, 1, 1, 4]\n",
      "Fitness: 12\n",
      "Board:\n",
      ". . . Q\n",
      "Q . . .\n",
      "Q . . .\n",
      ". . . Q\n"
     ]
    }
   ],
   "source": [
    "def print_board(solution):\n",
    "    board = [['.' for _ in range(N)] for _ in range(N)]\n",
    "    for row, col in enumerate(solution):\n",
    "        board[row][col - 1] = 'Q'\n",
    "    for row in board:\n",
    "        print(' '.join(row))\n",
    "\n",
    "best_solution = genetic_algorithm(population_size=100, generations=100, mutation_rate=0.1)\n",
    "print(\"Best solution:\", best_solution)\n",
    "print(\"Fitness:\", fitness(best_solution))\n",
    "print(\"Board:\")\n",
    "print_board(best_solution)"
   ]
  },
  {
   "cell_type": "code",
   "execution_count": null,
   "metadata": {},
   "outputs": [],
   "source": []
  }
 ],
 "metadata": {
  "kernel_info": {
   "name": "python"
  },
  "kernelspec": {
   "display_name": "Python 3 (ipykernel)",
   "language": "python",
   "name": "python3"
  },
  "language_info": {
   "codemirror_mode": {
    "name": "ipython",
    "version": 3
   },
   "file_extension": ".py",
   "mimetype": "text/x-python",
   "name": "python",
   "nbconvert_exporter": "python",
   "pygments_lexer": "ipython3",
   "version": "3.11.8"
  },
  "nteract": {
   "version": "nteract-front-end@1.0.0"
  }
 },
 "nbformat": 4,
 "nbformat_minor": 4
}
