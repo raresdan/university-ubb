{
 "cells": [
  {
   "cell_type": "code",
   "execution_count": 50,
   "id": "506097ab-d08c-4bff-a3c2-6d2525a1f7c7",
   "metadata": {},
   "outputs": [
    {
     "name": "stdout",
     "output_type": "stream",
     "text": [
      "Sequential(\n",
      "  (hidden): Linear(in_features=2, out_features=3, bias=True)\n",
      "  (sigmoid): Sigmoid()\n",
      "  (output): Linear(in_features=3, out_features=2, bias=True)\n",
      ")\n"
     ]
    }
   ],
   "source": [
    "import torch\n",
    "import torch.nn as nn\n",
    "from collections import OrderedDict\n",
    "import matplotlib.pyplot as plt\n",
    "\n",
    "model = nn.Sequential(OrderedDict([\n",
    "    ('hidden', nn.Linear(2, 3)),  # first hidden layer with 3 neurons\n",
    "    ('sigmoid', nn.Sigmoid()),    # sigmoid activation function\n",
    "    ('output', nn.Linear(3, 2)),  # output layer with 2 neurons\n",
    "    ('sigmoid', nn.Sigmoid())     # sigmoid activation function\n",
    "]))\n",
    "print(model)"
   ]
  },
  {
   "cell_type": "code",
   "execution_count": 51,
   "id": "e1c6caa9-9278-42fb-b7d2-e09a8bcd5093",
   "metadata": {},
   "outputs": [
    {
     "name": "stdout",
     "output_type": "stream",
     "text": [
      "tensor([[0., 0.],\n",
      "        [0., 1.],\n",
      "        [1., 0.],\n",
      "        [1., 1.]])\n"
     ]
    }
   ],
   "source": [
    "data_in = torch.tensor([[0,0], [0,1], [1,0], [1,1]], dtype=torch.float)\n",
    "print(data_in)"
   ]
  },
  {
   "cell_type": "code",
   "execution_count": 52,
   "id": "57622ea7-6c43-4c53-aa9b-59a58f0d6807",
   "metadata": {},
   "outputs": [
    {
     "name": "stdout",
     "output_type": "stream",
     "text": [
      "tensor([[0., 0.],\n",
      "        [0., 1.],\n",
      "        [0., 1.],\n",
      "        [1., 0.]])\n"
     ]
    }
   ],
   "source": [
    "data_target = torch.tensor([[0,0], [0,1],[0,1],[1,0]], dtype=torch.float)\n",
    "print(data_target)"
   ]
  },
  {
   "cell_type": "code",
   "execution_count": 53,
   "id": "117c0bbe-261a-43c1-8e2e-c3468380cd74",
   "metadata": {},
   "outputs": [],
   "source": [
    "criterion = nn.MSELoss() # using Mean Square Error Loss\n",
    "optimizer = torch.optim.SGD(model.parameters(), lr=0.1) # using stochastic gradient descent with a learning rate og 0.1"
   ]
  },
  {
   "cell_type": "code",
   "execution_count": 54,
   "id": "1c1f81b1-0508-4648-ab04-56b9fd18a38c",
   "metadata": {},
   "outputs": [
    {
     "name": "stdout",
     "output_type": "stream",
     "text": [
      "Model reached 100% accuracy at epoch 5562\n"
     ]
    }
   ],
   "source": [
    "# Train the model\n",
    "losses = []\n",
    "for epoch in range(10000):\n",
    "    # reset the gradients to zero before each forward and backward pass\n",
    "    optimizer.zero_grad()  \n",
    "    # forward pass\n",
    "    outputs = model(data_in)\n",
    "    # calculate loss\n",
    "    loss = criterion(outputs, data_target)\n",
    "    # backward pass\n",
    "    loss.backward()          \n",
    "    # update weights\n",
    "    optimizer.step()         \n",
    "    losses.append(loss.item())\n",
    "    \n",
    "    # accuracy\n",
    "    predicted_classes = (outputs.round() == data_target)\n",
    "    accuracy = predicted_classes.all(dim=1).float().mean().item()\n",
    "    if accuracy == 1:\n",
    "        print(f\"Model reached 100% accuracy at epoch {epoch+1}\")\n",
    "        break"
   ]
  },
  {
   "cell_type": "code",
   "execution_count": 59,
   "id": "c84045d5-e111-418f-9921-460bce23b62a",
   "metadata": {},
   "outputs": [
    {
     "data": {
      "image/png": "[encoded data removed]",
      "text/plain": [
       "<Figure size 640x480 with 1 Axes>"
      ]
     },
     "metadata": {},
     "output_type": "display_data"
    }
   ],
   "source": [
    "# visualize the resuts\n",
    "import numpy as np\n",
    "\n",
    "# Plot loss curve\n",
    "plt.figure()\n",
    "plt.plot(losses, label='Loss')\n",
    "plt.xlabel('Epoch')\n",
    "plt.ylabel('Loss')\n",
    "plt.title('Training Loss')\n",
    "plt.legend()\n",
    "plt.show()"
   ]
  },
  {
   "cell_type": "code",
   "execution_count": 60,
   "id": "ff6a372b-3c51-4cc8-b75c-75ead95eab53",
   "metadata": {},
   "outputs": [
    {
     "name": "stdout",
     "output_type": "stream",
     "text": [
      "Model weights:\n",
      "hidden.weight tensor([[ 0.7638,  0.8673],\n",
      "        [-1.3329,  1.6039],\n",
      "        [-1.6905, -2.4659]])\n",
      "hidden.bias tensor([-0.5032, -1.6876,  3.8888])\n",
      "output.weight tensor([[ 0.9914, -0.7104, -1.4972],\n",
      "        [ 1.1783,  0.6767,  1.3089]])\n",
      "output.bias tensor([ 1.0061, -1.3326])\n"
     ]
    }
   ],
   "source": [
    "# Print model weights\n",
    "print(\"Model weights:\")\n",
    "for name, param in model.named_parameters():\n",
    "    if param.requires_grad:\n",
    "        print(name, param.data)"
   ]
  },
  {
   "cell_type": "code",
   "execution_count": null,
   "id": "a116b2b1-184b-4629-9d37-518896dec44d",
   "metadata": {},
   "outputs": [],
   "source": []
  }
 ],
 "metadata": {
  "kernelspec": {
   "display_name": "Python 3 (ipykernel)",
   "language": "python",
   "name": "python3"
  },
  "language_info": {
   "codemirror_mode": {
    "name": "ipython",
    "version": 3
   },
   "file_extension": ".py",
   "mimetype": "text/x-python",
   "name": "python",
   "nbconvert_exporter": "python",
   "pygments_lexer": "ipython3",
   "version": "3.11.8"
  }
 },
 "nbformat": 4,
 "nbformat_minor": 5
}
