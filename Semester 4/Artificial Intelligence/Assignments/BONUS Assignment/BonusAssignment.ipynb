{
 "cells": [
  {
   "cell_type": "markdown",
   "metadata": {},
   "source": [
    "# REGRESSION\n",
    "\n",
    "Consider the following database from he UCI databases repository https://archive.ics.uci.edu/dataset/29/computer+hardware\n"
   ]
  },
  {
   "cell_type": "code",
   "execution_count": 1,
   "metadata": {},
   "outputs": [
    {
     "name": "stdout",
     "output_type": "stream",
     "text": [
      "Collecting ucimlrepo\n",
      "  Downloading ucimlrepo-0.0.6-py3-none-any.whl.metadata (5.3 kB)\n",
      "Downloading ucimlrepo-0.0.6-py3-none-any.whl (8.0 kB)\n",
      "Installing collected packages: ucimlrepo\n",
      "Successfully installed ucimlrepo-0.0.6\n"
     ]
    }
   ],
   "source": [
    "# install the  b package\n",
    "\n",
    "!pip install ucimlrepo"
   ]
  },
  {
   "cell_type": "code",
   "execution_count": 35,
   "metadata": {},
   "outputs": [
    {
     "name": "stdout",
     "output_type": "stream",
     "text": [
      "{'uci_id': 29, 'name': 'Computer Hardware', 'repository_url': 'https://archive.ics.uci.edu/dataset/29/computer+hardware', 'data_url': 'https://archive.ics.uci.edu/static/public/29/data.csv', 'abstract': 'Relative CPU Performance Data, described in terms of its cycle time, memory size, etc.', 'area': 'Computer Science', 'tasks': ['Regression'], 'characteristics': ['Multivariate'], 'num_instances': 209, 'num_features': 10, 'feature_types': ['Integer'], 'demographics': [], 'target_col': None, 'index_col': None, 'has_missing_values': 'no', 'missing_values_symbol': None, 'year_of_dataset_creation': 1987, 'last_updated': 'Fri Oct 27 2023', 'dataset_doi': '10.24432/C5830D', 'creators': ['Jacob Feldmesser'], 'intro_paper': None, 'additional_info': {'summary': 'The estimated relative performance values were estimated by the authors using a linear regression method.  See their article (pp 308-313) for more details on how the relative performance values were set.', 'purpose': None, 'funded_by': None, 'instances_represent': None, 'recommended_data_splits': None, 'sensitive_data': None, 'preprocessing_description': None, 'variable_info': '   1. vendor name: 30 \\r\\n      (adviser, amdahl,apollo, basf, bti, burroughs, c.r.d, cambex, cdc, dec, \\r\\n       dg, formation, four-phase, gould, honeywell, hp, ibm, ipl, magnuson, \\r\\n       microdata, nas, ncr, nixdorf, perkin-elmer, prime, siemens, sperry, \\r\\n       sratus, wang)\\r\\n   2. Model Name: many unique symbols\\r\\n   3. MYCT: machine cycle time in nanoseconds (integer)\\r\\n   4. MMIN: minimum main memory in kilobytes (integer)\\r\\n   5. MMAX: maximum main memory in kilobytes (integer)\\r\\n   6. CACH: cache memory in kilobytes (integer)\\r\\n   7. CHMIN: minimum channels in units (integer)\\r\\n   8. CHMAX: maximum channels in units (integer)\\r\\n   9. PRP: published relative performance (integer)\\r\\n  10. ERP: estimated relative performance from the original article (integer)', 'citation': None}}\n",
      "         name     role         type demographic  \\\n",
      "0  VendorName  Feature  Categorical        None   \n",
      "1   ModelName  Feature  Categorical        None   \n",
      "2        MYCT  Feature      Integer        None   \n",
      "3        MMIN  Feature      Integer        None   \n",
      "4        MMAX  Feature      Integer        None   \n",
      "5        CACH  Feature      Integer        None   \n",
      "6       CHMIN  Feature      Integer        None   \n",
      "7       CHMAX  Feature      Integer        None   \n",
      "8         PRP  Feature      Integer        None   \n",
      "9         ERP  Feature      Integer        None   \n",
      "\n",
      "                                         description        units  \\\n",
      "0  (adviser, amdahl,apollo, basf, bti, burroughs,...         None   \n",
      "1                                many unique symbols         None   \n",
      "2                                 machine cycle time  nanoseconds   \n",
      "3                                minimum main memory    kilobytes   \n",
      "4                                maximum main memory    kilobytes   \n",
      "5                                       cache memory    kilobytes   \n",
      "6                                   minimum channels        units   \n",
      "7                                   maximum channels        units   \n",
      "8                     published relative performance         None   \n",
      "9  estimated relative performance from the origin...         None   \n",
      "\n",
      "  missing_values  \n",
      "0             no  \n",
      "1             no  \n",
      "2             no  \n",
      "3             no  \n",
      "4             no  \n",
      "5             no  \n",
      "6             no  \n",
      "7             no  \n",
      "8             no  \n",
      "9             no  \n"
     ]
    }
   ],
   "source": [
    "from ucimlrepo import fetch_ucirepo \n",
    "  \n",
    "# fetch dataset \n",
    "computer_hardware = fetch_ucirepo(id=29) \n",
    "  \n",
    "# data (as pandas dataframes) \n",
    "X = computer_hardware.data.features \n",
    "y = computer_hardware.data.targets \n",
    "  \n",
    "# metadata \n",
    "print(computer_hardware.metadata) \n",
    "  \n",
    "# variable information \n",
    "print(computer_hardware.variables)\n"
   ]
  },
  {
   "cell_type": "markdown",
   "metadata": {},
   "source": [
    "The content of the Database are:\n",
    "\n",
    "Features\n",
    "1. vendor name: 30 \n",
    "      (adviser, amdahl,apollo, basf, bti, burroughs, c.r.d, cambex, cdc, dec, \n",
    "       dg, formation, four-phase, gould, honeywell, hp, ibm, ipl, magnuson, \n",
    "       microdata, nas, ncr, nixdorf, perkin-elmer, prime, siemens, sperry, \n",
    "       sratus, wang)\n",
    "2. Model Name: many unique symbols\n",
    "3. MYCT: machine cycle time in nanoseconds (integer)\n",
    "4. MMIN: minimum main memory in kilobytes (integer)\n",
    "5. MMAX: maximum main memory in kilobytes (integer)\n",
    "6. CACH: cache memory in kilobytes (integer)\n",
    "7. CHMIN: minimum channels in units (integer)\n",
    "8. CHMAX: maximum channels in units (integer)\n",
    "\n",
    "Target \n",
    "\n",
    "9. PRP: published relative performance (integer)\n",
    "10. ERP: estimated relative performance from the original article (integer)\n",
    "\n",
    "\n",
    "Perform a regression using ANNs on the 1-8 features and compare your results with each of the target values. \n"
   ]
  },
  {
   "cell_type": "code",
   "execution_count": null,
   "metadata": {},
   "outputs": [],
   "source": [
    "# All are features?"
   ]
  }
 ],
 "metadata": {
  "kernelspec": {
   "display_name": "Python 3 (ipykernel)",
   "language": "python",
   "name": "python3"
  },
  "language_info": {
   "codemirror_mode": {
    "name": "ipython",
    "version": 3
   },
   "file_extension": ".py",
   "mimetype": "text/x-python",
   "name": "python",
   "nbconvert_exporter": "python",
   "pygments_lexer": "ipython3",
   "version": "3.11.8"
  },
  "nteract": {
   "version": "nteract-front-end@1.0.0"
  }
 },
 "nbformat": 4,
 "nbformat_minor": 4
}
